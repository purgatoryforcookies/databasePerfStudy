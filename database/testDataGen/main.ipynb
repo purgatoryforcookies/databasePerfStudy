{
 "cells": [
  {
   "cell_type": "code",
   "execution_count": 1,
   "metadata": {},
   "outputs": [
    {
     "data": {
      "text/plain": [
       "1000"
      ]
     },
     "execution_count": 1,
     "metadata": {},
     "output_type": "execute_result"
    }
   ],
   "source": [
    "from src import Link\n",
    "import pandas as pd\n",
    "from faker import Faker\n",
    "import uuid\n",
    "\n",
    "datalink = Link.DataLink('perfStudy','perfStudy','db')\n",
    "fake = Faker()\n",
    "\n",
    "\n",
    "\n",
    "n_records = 100_000\n",
    "\n",
    "data = {\n",
    "    'name':[fake.unique.name() for x in range(n_records)],\n",
    "    'email':[fake.email() for x in range(n_records)],\n",
    "    'phone':[fake.phone_number() for x in range(n_records)],\n",
    "    'address':[fake.address() for x in range(n_records)],\n",
    "    'uuid': [str(uuid.uuid4()) for x in range(n_records)]\n",
    "    \n",
    "}\n",
    "\n",
    "df = pd.DataFrame(data)\n",
    "\n",
    "df.to_sql('users', datalink.engine.connect(),if_exists='append',index=False)\n"
   ]
  }
 ],
 "metadata": {
  "kernelspec": {
   "display_name": "data",
   "language": "python",
   "name": "python3"
  },
  "language_info": {
   "codemirror_mode": {
    "name": "ipython",
    "version": 3
   },
   "file_extension": ".py",
   "mimetype": "text/x-python",
   "name": "python",
   "nbconvert_exporter": "python",
   "pygments_lexer": "ipython3",
   "version": "3.10.11"
  },
  "orig_nbformat": 4
 },
 "nbformat": 4,
 "nbformat_minor": 2
}
